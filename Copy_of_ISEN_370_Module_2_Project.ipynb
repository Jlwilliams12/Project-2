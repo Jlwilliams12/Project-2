{
  "nbformat": 4,
  "nbformat_minor": 0,
  "metadata": {
    "colab": {
      "provenance": [],
      "include_colab_link": true
    },
    "kernelspec": {
      "name": "python3",
      "display_name": "Python 3"
    },
    "language_info": {
      "name": "python"
    }
  },
  "cells": [
    {
      "cell_type": "markdown",
      "metadata": {
        "id": "view-in-github",
        "colab_type": "text"
      },
      "source": [
        "<a href=\"https://colab.research.google.com/github/Jlwilliams12/Project-2/blob/main/Copy_of_ISEN_370_Module_2_Project.ipynb\" target=\"_parent\"><img src=\"https://colab.research.google.com/assets/colab-badge.svg\" alt=\"Open In Colab\"/></a>"
      ]
    },
    {
      "cell_type": "markdown",
      "metadata": {
        "id": "ORIRg6IK6lqT"
      },
      "source": [
        "# ISEN 370 Project 2 Assignment\n",
        "In this assignment, you will use data science tools to exlore two datasets, calculate confidence intervals and conduct a hypothesis testing on the given datasets.\n",
        "You can use ISEN 370 Project 2 Demo file as a reference when completing this assignment.\n"
      ]
    },
    {
      "cell_type": "markdown",
      "metadata": {
        "id": "_yN-yrSITXXO"
      },
      "source": [
        "First, you will need to import required libraries to the project: numpy, pandas, matplotlib, SciPy. For your convenience, the first line has been provided below. Add three more lines to complete importing the libraries."
      ]
    },
    {
      "cell_type": "code",
      "metadata": {
        "id": "4y1CM1g7kkbB"
      },
      "source": [
        "import numpy as np\n",
        "import pandas as pd\n",
        "import matplotlib.pyplot as plt\n",
        "import scipy.stats as stats"
      ],
      "execution_count": 13,
      "outputs": []
    },
    {
      "cell_type": "markdown",
      "metadata": {
        "id": "3qsXYkC_6_r-"
      },
      "source": [
        "## Data Import\n",
        "\n",
        "The Learning Enhanced Watershed Assessment System (LEWAS) is a unique real-time water and weather monitoring system. The LEWAS monitoring site is installed at the outfall of the Webb Branch watershed on Virginia Tech’s campus. Webb Branch is an urban stream with a 2.78 square kilometer (about one square mile) watershed consisting of residential and commercial properties. The stream is routed through man-made channels and culverts until it discharges at the LEWAS monitoring site. We first import the LEWAS datasets and print the first 10 rows of data. The data is stored in CSV files for which the path is given in the cell below. There are two CSV files, the first contains data from 9/01/17-9/30/17 and the second contains data from 10/01/17-10/31/17.\n",
        "The following codes provide the link to where the data are stored."
      ]
    },
    {
      "cell_type": "code",
      "metadata": {
        "id": "oWmt7-Ye7RY8"
      },
      "source": [
        "data_url3='https://github.com/StevenXJiang/DataScienceModule2/raw/main/LEWAS_Storm_Data_Demo_3.csv'\n",
        "data_url4='https://github.com/StevenXJiang/DataScienceModule2/raw/main/LEWAS_Storm_Data_Demo_4.csv'"
      ],
      "execution_count": 14,
      "outputs": []
    },
    {
      "cell_type": "markdown",
      "metadata": {
        "id": "PM69GHhR67pA"
      },
      "source": [
        "## Exploring Data"
      ]
    },
    {
      "cell_type": "markdown",
      "metadata": {
        "id": "xXX6QS98UBQo"
      },
      "source": [
        "* Provide two lines of code below to create a dataframe named df3 that reads data using data_url3 (data from 9/1/17-9/30/17). <br>\n",
        "* Use pd.read_csv() function to read the csv data. <br>\n",
        "* Display the first 10 rows of data using head()."
      ]
    },
    {
      "cell_type": "code",
      "metadata": {
        "id": "zdwkCZlR_ssb",
        "outputId": "d7453b6d-4b88-4a90-99a5-814752b6239c",
        "colab": {
          "base_uri": "https://localhost:8080/",
          "height": 363
        }
      },
      "source": [
        "data_url3='https://github.com/StevenXJiang/DataScienceModule2/raw/main/LEWAS_Storm_Data_Demo_3.csv'\n",
        "data_url4='https://github.com/StevenXJiang/DataScienceModule2/raw/main/LEWAS_Storm_Data_Demo_4.csv'\n",
        "df3=pd.read_csv(data_url3)\n",
        "df3.head(10)"
      ],
      "execution_count": 15,
      "outputs": [
        {
          "output_type": "execute_result",
          "data": {
            "text/plain": [
              "     Date and Time  Water Temperature (F)  Est. Flow Rate[m^3/s]\n",
              "0  9/1/17 12:01 AM                 66.236               0.051211\n",
              "1  9/1/17 12:04 AM                 66.236               0.042161\n",
              "2  9/1/17 12:07 AM                 66.146               0.029130\n",
              "3  9/1/17 12:10 AM                 66.200               0.029003\n",
              "4  9/1/17 12:13 AM                 66.236               0.023817\n",
              "5  9/1/17 12:16 AM                 66.254               0.013823\n",
              "6  9/1/17 12:19 AM                 66.272               0.010061\n",
              "7  9/1/17 12:22 AM                 66.290               0.008013\n",
              "8  9/1/17 12:25 AM                 66.254               0.004908\n",
              "9  9/1/17 12:28 AM                 66.290               0.005631"
            ],
            "text/html": [
              "\n",
              "  <div id=\"df-54512522-6acb-48fc-9cf2-168641866e2e\">\n",
              "    <div class=\"colab-df-container\">\n",
              "      <div>\n",
              "<style scoped>\n",
              "    .dataframe tbody tr th:only-of-type {\n",
              "        vertical-align: middle;\n",
              "    }\n",
              "\n",
              "    .dataframe tbody tr th {\n",
              "        vertical-align: top;\n",
              "    }\n",
              "\n",
              "    .dataframe thead th {\n",
              "        text-align: right;\n",
              "    }\n",
              "</style>\n",
              "<table border=\"1\" class=\"dataframe\">\n",
              "  <thead>\n",
              "    <tr style=\"text-align: right;\">\n",
              "      <th></th>\n",
              "      <th>Date and Time</th>\n",
              "      <th>Water Temperature (F)</th>\n",
              "      <th>Est. Flow Rate[m^3/s]</th>\n",
              "    </tr>\n",
              "  </thead>\n",
              "  <tbody>\n",
              "    <tr>\n",
              "      <th>0</th>\n",
              "      <td>9/1/17 12:01 AM</td>\n",
              "      <td>66.236</td>\n",
              "      <td>0.051211</td>\n",
              "    </tr>\n",
              "    <tr>\n",
              "      <th>1</th>\n",
              "      <td>9/1/17 12:04 AM</td>\n",
              "      <td>66.236</td>\n",
              "      <td>0.042161</td>\n",
              "    </tr>\n",
              "    <tr>\n",
              "      <th>2</th>\n",
              "      <td>9/1/17 12:07 AM</td>\n",
              "      <td>66.146</td>\n",
              "      <td>0.029130</td>\n",
              "    </tr>\n",
              "    <tr>\n",
              "      <th>3</th>\n",
              "      <td>9/1/17 12:10 AM</td>\n",
              "      <td>66.200</td>\n",
              "      <td>0.029003</td>\n",
              "    </tr>\n",
              "    <tr>\n",
              "      <th>4</th>\n",
              "      <td>9/1/17 12:13 AM</td>\n",
              "      <td>66.236</td>\n",
              "      <td>0.023817</td>\n",
              "    </tr>\n",
              "    <tr>\n",
              "      <th>5</th>\n",
              "      <td>9/1/17 12:16 AM</td>\n",
              "      <td>66.254</td>\n",
              "      <td>0.013823</td>\n",
              "    </tr>\n",
              "    <tr>\n",
              "      <th>6</th>\n",
              "      <td>9/1/17 12:19 AM</td>\n",
              "      <td>66.272</td>\n",
              "      <td>0.010061</td>\n",
              "    </tr>\n",
              "    <tr>\n",
              "      <th>7</th>\n",
              "      <td>9/1/17 12:22 AM</td>\n",
              "      <td>66.290</td>\n",
              "      <td>0.008013</td>\n",
              "    </tr>\n",
              "    <tr>\n",
              "      <th>8</th>\n",
              "      <td>9/1/17 12:25 AM</td>\n",
              "      <td>66.254</td>\n",
              "      <td>0.004908</td>\n",
              "    </tr>\n",
              "    <tr>\n",
              "      <th>9</th>\n",
              "      <td>9/1/17 12:28 AM</td>\n",
              "      <td>66.290</td>\n",
              "      <td>0.005631</td>\n",
              "    </tr>\n",
              "  </tbody>\n",
              "</table>\n",
              "</div>\n",
              "      <button class=\"colab-df-convert\" onclick=\"convertToInteractive('df-54512522-6acb-48fc-9cf2-168641866e2e')\"\n",
              "              title=\"Convert this dataframe to an interactive table.\"\n",
              "              style=\"display:none;\">\n",
              "        \n",
              "  <svg xmlns=\"http://www.w3.org/2000/svg\" height=\"24px\"viewBox=\"0 0 24 24\"\n",
              "       width=\"24px\">\n",
              "    <path d=\"M0 0h24v24H0V0z\" fill=\"none\"/>\n",
              "    <path d=\"M18.56 5.44l.94 2.06.94-2.06 2.06-.94-2.06-.94-.94-2.06-.94 2.06-2.06.94zm-11 1L8.5 8.5l.94-2.06 2.06-.94-2.06-.94L8.5 2.5l-.94 2.06-2.06.94zm10 10l.94 2.06.94-2.06 2.06-.94-2.06-.94-.94-2.06-.94 2.06-2.06.94z\"/><path d=\"M17.41 7.96l-1.37-1.37c-.4-.4-.92-.59-1.43-.59-.52 0-1.04.2-1.43.59L10.3 9.45l-7.72 7.72c-.78.78-.78 2.05 0 2.83L4 21.41c.39.39.9.59 1.41.59.51 0 1.02-.2 1.41-.59l7.78-7.78 2.81-2.81c.8-.78.8-2.07 0-2.86zM5.41 20L4 18.59l7.72-7.72 1.47 1.35L5.41 20z\"/>\n",
              "  </svg>\n",
              "      </button>\n",
              "      \n",
              "  <style>\n",
              "    .colab-df-container {\n",
              "      display:flex;\n",
              "      flex-wrap:wrap;\n",
              "      gap: 12px;\n",
              "    }\n",
              "\n",
              "    .colab-df-convert {\n",
              "      background-color: #E8F0FE;\n",
              "      border: none;\n",
              "      border-radius: 50%;\n",
              "      cursor: pointer;\n",
              "      display: none;\n",
              "      fill: #1967D2;\n",
              "      height: 32px;\n",
              "      padding: 0 0 0 0;\n",
              "      width: 32px;\n",
              "    }\n",
              "\n",
              "    .colab-df-convert:hover {\n",
              "      background-color: #E2EBFA;\n",
              "      box-shadow: 0px 1px 2px rgba(60, 64, 67, 0.3), 0px 1px 3px 1px rgba(60, 64, 67, 0.15);\n",
              "      fill: #174EA6;\n",
              "    }\n",
              "\n",
              "    [theme=dark] .colab-df-convert {\n",
              "      background-color: #3B4455;\n",
              "      fill: #D2E3FC;\n",
              "    }\n",
              "\n",
              "    [theme=dark] .colab-df-convert:hover {\n",
              "      background-color: #434B5C;\n",
              "      box-shadow: 0px 1px 3px 1px rgba(0, 0, 0, 0.15);\n",
              "      filter: drop-shadow(0px 1px 2px rgba(0, 0, 0, 0.3));\n",
              "      fill: #FFFFFF;\n",
              "    }\n",
              "  </style>\n",
              "\n",
              "      <script>\n",
              "        const buttonEl =\n",
              "          document.querySelector('#df-54512522-6acb-48fc-9cf2-168641866e2e button.colab-df-convert');\n",
              "        buttonEl.style.display =\n",
              "          google.colab.kernel.accessAllowed ? 'block' : 'none';\n",
              "\n",
              "        async function convertToInteractive(key) {\n",
              "          const element = document.querySelector('#df-54512522-6acb-48fc-9cf2-168641866e2e');\n",
              "          const dataTable =\n",
              "            await google.colab.kernel.invokeFunction('convertToInteractive',\n",
              "                                                     [key], {});\n",
              "          if (!dataTable) return;\n",
              "\n",
              "          const docLinkHtml = 'Like what you see? Visit the ' +\n",
              "            '<a target=\"_blank\" href=https://colab.research.google.com/notebooks/data_table.ipynb>data table notebook</a>'\n",
              "            + ' to learn more about interactive tables.';\n",
              "          element.innerHTML = '';\n",
              "          dataTable['output_type'] = 'display_data';\n",
              "          await google.colab.output.renderOutput(dataTable, element);\n",
              "          const docLink = document.createElement('div');\n",
              "          docLink.innerHTML = docLinkHtml;\n",
              "          element.appendChild(docLink);\n",
              "        }\n",
              "      </script>\n",
              "    </div>\n",
              "  </div>\n",
              "  "
            ]
          },
          "metadata": {},
          "execution_count": 15
        }
      ]
    },
    {
      "cell_type": "markdown",
      "metadata": {
        "id": "10krY0x-k8Nq"
      },
      "source": [
        "* Provide two lines of code below to create a dataframe named df4 that reads data using data_url4 (data from 10/1/17-10/31/17).\n",
        "* Use pd.read_csv() function to read the csv data.\n",
        "* Display the first 10 rows of data using head()."
      ]
    },
    {
      "cell_type": "code",
      "metadata": {
        "id": "TQj5WiImVM3Z",
        "outputId": "e143975d-f618-4c9f-9042-5435e995385b",
        "colab": {
          "base_uri": "https://localhost:8080/",
          "height": 363
        }
      },
      "source": [
        "data_url3='https://github.com/StevenXJiang/DataScienceModule2/raw/main/LEWAS_Storm_Data_Demo_3.csv'\n",
        "data_url4='https://github.com/StevenXJiang/DataScienceModule2/raw/main/LEWAS_Storm_Data_Demo_4.csv'\n",
        "df4=pd.read_csv(data_url4)\n",
        "df4.head(10)"
      ],
      "execution_count": 16,
      "outputs": [
        {
          "output_type": "execute_result",
          "data": {
            "text/plain": [
              "     Date and Time  Water Temperature (F)  Estimated Flow Rate (m3/s)\n",
              "0   10/1/2017 0:19                 62.096                    0.029084\n",
              "1   10/1/2017 0:30                 61.916                    0.032962\n",
              "2   10/1/2017 0:36                 61.862                    0.026500\n",
              "3  10/1/2017 13:25                 60.512                    0.018774\n",
              "4  10/1/2017 13:35                 60.494                    0.016194\n",
              "5  10/1/2017 13:48                 60.566                    0.013135\n",
              "6  10/1/2017 14:33                 60.836                    0.014517\n",
              "7  10/1/2017 16:40                 62.114                    0.011127\n",
              "8  10/1/2017 17:32                 62.204                    0.006843\n",
              "9  10/1/2017 17:46                 62.150                    0.004584"
            ],
            "text/html": [
              "\n",
              "  <div id=\"df-98c025d4-620a-47c8-abeb-7a8037b525ea\">\n",
              "    <div class=\"colab-df-container\">\n",
              "      <div>\n",
              "<style scoped>\n",
              "    .dataframe tbody tr th:only-of-type {\n",
              "        vertical-align: middle;\n",
              "    }\n",
              "\n",
              "    .dataframe tbody tr th {\n",
              "        vertical-align: top;\n",
              "    }\n",
              "\n",
              "    .dataframe thead th {\n",
              "        text-align: right;\n",
              "    }\n",
              "</style>\n",
              "<table border=\"1\" class=\"dataframe\">\n",
              "  <thead>\n",
              "    <tr style=\"text-align: right;\">\n",
              "      <th></th>\n",
              "      <th>Date and Time</th>\n",
              "      <th>Water Temperature (F)</th>\n",
              "      <th>Estimated Flow Rate (m3/s)</th>\n",
              "    </tr>\n",
              "  </thead>\n",
              "  <tbody>\n",
              "    <tr>\n",
              "      <th>0</th>\n",
              "      <td>10/1/2017 0:19</td>\n",
              "      <td>62.096</td>\n",
              "      <td>0.029084</td>\n",
              "    </tr>\n",
              "    <tr>\n",
              "      <th>1</th>\n",
              "      <td>10/1/2017 0:30</td>\n",
              "      <td>61.916</td>\n",
              "      <td>0.032962</td>\n",
              "    </tr>\n",
              "    <tr>\n",
              "      <th>2</th>\n",
              "      <td>10/1/2017 0:36</td>\n",
              "      <td>61.862</td>\n",
              "      <td>0.026500</td>\n",
              "    </tr>\n",
              "    <tr>\n",
              "      <th>3</th>\n",
              "      <td>10/1/2017 13:25</td>\n",
              "      <td>60.512</td>\n",
              "      <td>0.018774</td>\n",
              "    </tr>\n",
              "    <tr>\n",
              "      <th>4</th>\n",
              "      <td>10/1/2017 13:35</td>\n",
              "      <td>60.494</td>\n",
              "      <td>0.016194</td>\n",
              "    </tr>\n",
              "    <tr>\n",
              "      <th>5</th>\n",
              "      <td>10/1/2017 13:48</td>\n",
              "      <td>60.566</td>\n",
              "      <td>0.013135</td>\n",
              "    </tr>\n",
              "    <tr>\n",
              "      <th>6</th>\n",
              "      <td>10/1/2017 14:33</td>\n",
              "      <td>60.836</td>\n",
              "      <td>0.014517</td>\n",
              "    </tr>\n",
              "    <tr>\n",
              "      <th>7</th>\n",
              "      <td>10/1/2017 16:40</td>\n",
              "      <td>62.114</td>\n",
              "      <td>0.011127</td>\n",
              "    </tr>\n",
              "    <tr>\n",
              "      <th>8</th>\n",
              "      <td>10/1/2017 17:32</td>\n",
              "      <td>62.204</td>\n",
              "      <td>0.006843</td>\n",
              "    </tr>\n",
              "    <tr>\n",
              "      <th>9</th>\n",
              "      <td>10/1/2017 17:46</td>\n",
              "      <td>62.150</td>\n",
              "      <td>0.004584</td>\n",
              "    </tr>\n",
              "  </tbody>\n",
              "</table>\n",
              "</div>\n",
              "      <button class=\"colab-df-convert\" onclick=\"convertToInteractive('df-98c025d4-620a-47c8-abeb-7a8037b525ea')\"\n",
              "              title=\"Convert this dataframe to an interactive table.\"\n",
              "              style=\"display:none;\">\n",
              "        \n",
              "  <svg xmlns=\"http://www.w3.org/2000/svg\" height=\"24px\"viewBox=\"0 0 24 24\"\n",
              "       width=\"24px\">\n",
              "    <path d=\"M0 0h24v24H0V0z\" fill=\"none\"/>\n",
              "    <path d=\"M18.56 5.44l.94 2.06.94-2.06 2.06-.94-2.06-.94-.94-2.06-.94 2.06-2.06.94zm-11 1L8.5 8.5l.94-2.06 2.06-.94-2.06-.94L8.5 2.5l-.94 2.06-2.06.94zm10 10l.94 2.06.94-2.06 2.06-.94-2.06-.94-.94-2.06-.94 2.06-2.06.94z\"/><path d=\"M17.41 7.96l-1.37-1.37c-.4-.4-.92-.59-1.43-.59-.52 0-1.04.2-1.43.59L10.3 9.45l-7.72 7.72c-.78.78-.78 2.05 0 2.83L4 21.41c.39.39.9.59 1.41.59.51 0 1.02-.2 1.41-.59l7.78-7.78 2.81-2.81c.8-.78.8-2.07 0-2.86zM5.41 20L4 18.59l7.72-7.72 1.47 1.35L5.41 20z\"/>\n",
              "  </svg>\n",
              "      </button>\n",
              "      \n",
              "  <style>\n",
              "    .colab-df-container {\n",
              "      display:flex;\n",
              "      flex-wrap:wrap;\n",
              "      gap: 12px;\n",
              "    }\n",
              "\n",
              "    .colab-df-convert {\n",
              "      background-color: #E8F0FE;\n",
              "      border: none;\n",
              "      border-radius: 50%;\n",
              "      cursor: pointer;\n",
              "      display: none;\n",
              "      fill: #1967D2;\n",
              "      height: 32px;\n",
              "      padding: 0 0 0 0;\n",
              "      width: 32px;\n",
              "    }\n",
              "\n",
              "    .colab-df-convert:hover {\n",
              "      background-color: #E2EBFA;\n",
              "      box-shadow: 0px 1px 2px rgba(60, 64, 67, 0.3), 0px 1px 3px 1px rgba(60, 64, 67, 0.15);\n",
              "      fill: #174EA6;\n",
              "    }\n",
              "\n",
              "    [theme=dark] .colab-df-convert {\n",
              "      background-color: #3B4455;\n",
              "      fill: #D2E3FC;\n",
              "    }\n",
              "\n",
              "    [theme=dark] .colab-df-convert:hover {\n",
              "      background-color: #434B5C;\n",
              "      box-shadow: 0px 1px 3px 1px rgba(0, 0, 0, 0.15);\n",
              "      filter: drop-shadow(0px 1px 2px rgba(0, 0, 0, 0.3));\n",
              "      fill: #FFFFFF;\n",
              "    }\n",
              "  </style>\n",
              "\n",
              "      <script>\n",
              "        const buttonEl =\n",
              "          document.querySelector('#df-98c025d4-620a-47c8-abeb-7a8037b525ea button.colab-df-convert');\n",
              "        buttonEl.style.display =\n",
              "          google.colab.kernel.accessAllowed ? 'block' : 'none';\n",
              "\n",
              "        async function convertToInteractive(key) {\n",
              "          const element = document.querySelector('#df-98c025d4-620a-47c8-abeb-7a8037b525ea');\n",
              "          const dataTable =\n",
              "            await google.colab.kernel.invokeFunction('convertToInteractive',\n",
              "                                                     [key], {});\n",
              "          if (!dataTable) return;\n",
              "\n",
              "          const docLinkHtml = 'Like what you see? Visit the ' +\n",
              "            '<a target=\"_blank\" href=https://colab.research.google.com/notebooks/data_table.ipynb>data table notebook</a>'\n",
              "            + ' to learn more about interactive tables.';\n",
              "          element.innerHTML = '';\n",
              "          dataTable['output_type'] = 'display_data';\n",
              "          await google.colab.output.renderOutput(dataTable, element);\n",
              "          const docLink = document.createElement('div');\n",
              "          docLink.innerHTML = docLinkHtml;\n",
              "          element.appendChild(docLink);\n",
              "        }\n",
              "      </script>\n",
              "    </div>\n",
              "  </div>\n",
              "  "
            ]
          },
          "metadata": {},
          "execution_count": 16
        }
      ]
    },
    {
      "cell_type": "markdown",
      "metadata": {
        "id": "RklW1Ll47aoQ"
      },
      "source": [
        "## Exploring Data\n",
        "We can use a scatter plot to explore <b> the estimated flow rate data </b>. <br>\n",
        "Generate **two** scatter plots: one for the estimated flow rate data in September 2017 and the other for the estimated flow rate data in October 2017. Make sure to provide the title, x axis label and y axis label for your scatter plots."
      ]
    },
    {
      "cell_type": "markdown",
      "metadata": {
        "id": "maAkHf4WI7K6"
      },
      "source": [
        "## Scatter Plot 1"
      ]
    },
    {
      "cell_type": "code",
      "metadata": {
        "id": "XJYaSUJ7HC-4",
        "outputId": "3e784f2f-8dc8-41de-b8b5-646c72e2dba9",
        "colab": {
          "base_uri": "https://localhost:8080/",
          "height": 862
        }
      },
      "source": [
        "import matplotlib.pyplot as plt\n",
        "data_url3='https://github.com/StevenXJiang/DataScienceModule2/raw/main/LEWAS_Storm_Data_Demo_3.csv'\n",
        "plt.figure(figsize=(20,12))\n",
        "plt.scatter(df3[\"Date and Time\"], df3[\"Est. Flow Rate[m^3/s]\"], s=1)\n",
        "plt.title(\"Est Flow Rate 9/01/17-9/30/17\")\n",
        "plt.xlabel(\"Date\")\n",
        "plt.ylabel('Est Flow Rate (m^3/s)')\n",
        "plt.show()"
      ],
      "execution_count": 18,
      "outputs": [
        {
          "output_type": "display_data",
          "data": {
            "text/plain": [
              "<Figure size 2000x1200 with 1 Axes>"
            ],
            "image/png": "[encoded data removed]"
          },
          "metadata": {}
        }
      ]
    },
    {
      "cell_type": "markdown",
      "metadata": {
        "id": "L6SSm5L5bpHu"
      },
      "source": [
        "Comment on the trend of Est. Flow Rate[m^3/s] for September 2017. \n",
        "<br> \n",
        "Answer: The flow rate stays relatively near zero for majority of the data, however, there are outliers that spike up\n",
        "<BR>"
      ]
    },
    {
      "cell_type": "markdown",
      "metadata": {
        "id": "BN5p9gb8I-d-"
      },
      "source": [
        "## Scatter Plot 2"
      ]
    },
    {
      "cell_type": "code",
      "metadata": {
        "id": "TjslWzhYJCEA",
        "colab": {
          "base_uri": "https://localhost:8080/",
          "height": 865
        },
        "outputId": "149405f3-a167-4d0d-d9a1-94d8d2a5f8b3"
      },
      "source": [
        "plt.figure(figsize=(20,12))\n",
        "plt.scatter(df4[\"Date and Time\"], df4[\"Estimated Flow Rate (m3/s)\"], s=1)\n",
        "plt.title(\"Est Flow Rate 10/01/17-10/31/17\")\n",
        "plt.xlabel(\"Date\")\n",
        "plt.ylabel('Est Flow Rate (m^3/s)')\n",
        "plt.show()"
      ],
      "execution_count": 19,
      "outputs": [
        {
          "output_type": "display_data",
          "data": {
            "text/plain": [
              "<Figure size 2000x1200 with 1 Axes>"
            ],
            "image/png": "[encoded data removed]"
          },
          "metadata": {}
        }
      ]
    },
    {
      "cell_type": "markdown",
      "metadata": {
        "id": "zRlTAezefKRW"
      },
      "source": [
        "Comment on the trend of Est. Flow Rate[m^3/s] for October 2017. \n",
        "<br> \n",
        "**Answer:** Similar to plot one, te data remains relatively near zero aside from certain outliers.\n",
        "<BR>\n"
      ]
    },
    {
      "cell_type": "markdown",
      "metadata": {
        "id": "aHvdhLAp8JwS"
      },
      "source": [
        "## Histogram Plotting\n",
        "Plot a histogram for Est. Flow Rate  data of September 2017. Be sure to include proper titles and axis labels on each of your plots."
      ]
    },
    {
      "cell_type": "code",
      "metadata": {
        "id": "D5TXXDg58Wwn",
        "colab": {
          "base_uri": "https://localhost:8080/",
          "height": 430
        },
        "outputId": "c4c4180c-e6ad-4cb6-d8bb-a9df6e6dd80d"
      },
      "source": [
        "plt.hist(df3[\"Est. Flow Rate[m^3/s]\"])\n",
        "plt.show()"
      ],
      "execution_count": 20,
      "outputs": [
        {
          "output_type": "display_data",
          "data": {
            "text/plain": [
              "<Figure size 640x480 with 1 Axes>"
            ],
            "image/png": "[encoded data removed]"
          },
          "metadata": {}
        }
      ]
    },
    {
      "cell_type": "markdown",
      "metadata": {
        "id": "MtRaVz5BJdMv"
      },
      "source": [
        "Plot a histogram for Est. Flow Rate data of October 2017. Be sure to include proper titles and axis labels on each of your plots."
      ]
    },
    {
      "cell_type": "code",
      "metadata": {
        "id": "FH7ov5cHJhPI",
        "colab": {
          "base_uri": "https://localhost:8080/",
          "height": 430
        },
        "outputId": "bec8573c-4304-4008-b7f8-d03ee7338c2c"
      },
      "source": [
        "plt.hist(df4[\"Estimated Flow Rate (m3/s)\"])\n",
        "plt.show()"
      ],
      "execution_count": 21,
      "outputs": [
        {
          "output_type": "display_data",
          "data": {
            "text/plain": [
              "<Figure size 640x480 with 1 Axes>"
            ],
            "image/png": "[encoded data removed]"
          },
          "metadata": {}
        }
      ]
    },
    {
      "cell_type": "markdown",
      "metadata": {
        "id": "-rAHneBDoEA-"
      },
      "source": [
        "***Comment on the shape of both distributions.***\n",
        "<br>\n",
        "***Answer:***\n",
        "<br> Both plots are similar\n",
        "<br>"
      ]
    },
    {
      "cell_type": "markdown",
      "metadata": {
        "id": "et2TPHnI8Xmx"
      },
      "source": [
        "# Boxplot\n",
        "\n",
        "Generate a boxplot for Est. Flow Rate data of September 2017."
      ]
    },
    {
      "cell_type": "code",
      "metadata": {
        "id": "m72msMm7J7yt",
        "colab": {
          "base_uri": "https://localhost:8080/",
          "height": 430
        },
        "outputId": "ba1bc80b-b0eb-4fdb-ef77-ba7a8e73e4a0"
      },
      "source": [
        "boxplot1 = df3.boxplot(column=[\"Est. Flow Rate[m^3/s]\"], grid=False)"
      ],
      "execution_count": 22,
      "outputs": [
        {
          "output_type": "display_data",
          "data": {
            "text/plain": [
              "<Figure size 640x480 with 1 Axes>"
            ],
            "image/png": "[encoded data removed]"
          },
          "metadata": {}
        }
      ]
    },
    {
      "cell_type": "markdown",
      "metadata": {
        "id": "2k-pzbE28zTh"
      },
      "source": [
        "Generate a boxplot for Est. Flow Rate data of October 2017.\n",
        "\n"
      ]
    },
    {
      "cell_type": "code",
      "metadata": {
        "id": "CTsEzQdcKAu-",
        "colab": {
          "base_uri": "https://localhost:8080/",
          "height": 430
        },
        "outputId": "569b0181-9ed1-4d93-a157-3f12d4fe6184"
      },
      "source": [
        "boxplot1 = df4.boxplot(column=[\"Estimated Flow Rate (m3/s)\"], grid=False)"
      ],
      "execution_count": 23,
      "outputs": [
        {
          "output_type": "display_data",
          "data": {
            "text/plain": [
              "<Figure size 640x480 with 1 Axes>"
            ],
            "image/png": "[encoded data removed]"
          },
          "metadata": {}
        }
      ]
    },
    {
      "cell_type": "markdown",
      "metadata": {
        "id": "KInJRKw6oLWL"
      },
      "source": [
        "***Comment on both boxplots***\n",
        "<br>\n",
        "***Answer:*** <br>"
      ]
    },
    {
      "cell_type": "markdown",
      "metadata": {
        "id": "jJ7C5UXCoNv2"
      },
      "source": [
        "Data shows the presence of outliers"
      ]
    },
    {
      "cell_type": "markdown",
      "metadata": {
        "id": "kjwqEX7-9hBZ"
      },
      "source": [
        "\n",
        "#Confidence Interval\n",
        "\n",
        "We can construct confidence interval based on the sample data collected. From the histogram and the bloxplot, we have already estabished that the data is not normally distributed. However, give the large sample size, using the central limit theorem, we know the sampling distribution of the mean will follow a normal distribution. The following code will generate the 95% confidence interval for the mean estimated flow rate of Septemebr 2017.\n"
      ]
    },
    {
      "cell_type": "code",
      "metadata": {
        "id": "uVJHNf3w90Aa",
        "colab": {
          "base_uri": "https://localhost:8080/"
        },
        "outputId": "f2dc46e1-2a7b-4362-ab49-1053c2a56971"
      },
      "source": [
        "stats.norm.interval(alpha=0.95, loc=np.mean(df3[\"Est. Flow Rate[m^3/s]\"]), scale=stats.sem(df3[\"Est. Flow Rate[m^3/s]\"])) "
      ],
      "execution_count": 24,
      "outputs": [
        {
          "output_type": "stream",
          "name": "stderr",
          "text": [
            "<ipython-input-24-1c5ed897074c>:1: DeprecationWarning: Use of keyword argument 'alpha' for method 'interval' is deprecated and wil be removed in SciPy 1.11.0. Use first positional argument or keyword argument 'confidence' instead.\n",
            "  stats.norm.interval(alpha=0.95, loc=np.mean(df3[\"Est. Flow Rate[m^3/s]\"]), scale=stats.sem(df3[\"Est. Flow Rate[m^3/s]\"]))\n"
          ]
        },
        {
          "output_type": "execute_result",
          "data": {
            "text/plain": [
              "(-0.0005890705452862284, 0.0006043342287662121)"
            ]
          },
          "metadata": {},
          "execution_count": 24
        }
      ]
    },
    {
      "cell_type": "markdown",
      "metadata": {
        "id": "66-gYL6P943-"
      },
      "source": [
        "Interpret the confidence interval you generated.<br>\n",
        "***Answer:*** There is 95% chance that the interval (-0.0005890705452862284, 0.0006043342287662121) will capture the true mean Estimated Flow Rate of september 2017."
      ]
    },
    {
      "cell_type": "markdown",
      "metadata": {
        "id": "21mdTAOrWH0s"
      },
      "source": [
        "# Hypothesis testing\n",
        "Suppose we are interested in testing if the mean estimated flow rate from September 2017 is statisticlly different from the mean estimated flow rate from October 2017. "
      ]
    },
    {
      "cell_type": "markdown",
      "metadata": {
        "id": "JKDtO50yKZEs"
      },
      "source": [
        "***Question***<br>\n",
        "How many samples are there in this experiment? What are they?<br>\n",
        "***Answer***\n"
      ]
    },
    {
      "cell_type": "markdown",
      "metadata": {
        "id": "zrvr9pESKuuJ"
      },
      "source": [
        "There are two samples in this experiment are \"est. flow rate [m^3/s]\" and \"estimated flow rates (m3/s)\", th edata from september of 2017 and the data from octer of 2017 respectively\n",
        "\n"
      ]
    },
    {
      "cell_type": "markdown",
      "metadata": {
        "id": "YWeZ8fyXWl1A"
      },
      "source": [
        "Create two dataframe named r9 and r10 each reprenting the Est. Flow Rate data from September and October 2017."
      ]
    },
    {
      "cell_type": "code",
      "metadata": {
        "id": "Rm-7fxIaLJRK"
      },
      "source": [
        "r9=df3['Est. Flow Rate[m^3/s]']"
      ],
      "execution_count": 25,
      "outputs": []
    },
    {
      "cell_type": "code",
      "metadata": {
        "id": "LNkA5DDiLKxc"
      },
      "source": [
        "r10=df4['Estimated Flow Rate (m3/s)']"
      ],
      "execution_count": 26,
      "outputs": []
    },
    {
      "cell_type": "markdown",
      "metadata": {
        "id": "JpeaDu-ELL8D"
      },
      "source": [
        "# Independent Variable and Dependent Variable"
      ]
    },
    {
      "cell_type": "markdown",
      "metadata": {
        "id": "SHMYbJceLYkC"
      },
      "source": [
        "***Question***<br>\n",
        "What is the independent variable and what is the dependent variable of this experiment?"
      ]
    },
    {
      "cell_type": "markdown",
      "metadata": {
        "id": "tpYMC11sLhM7"
      },
      "source": [
        "***Answer***"
      ]
    },
    {
      "cell_type": "markdown",
      "metadata": {
        "id": "Sv1axeNbR-AS"
      },
      "source": [
        "Independent is Date and Time\n",
        "Dependent is Estimated flow rate"
      ]
    },
    {
      "cell_type": "markdown",
      "metadata": {
        "id": "87-nDTJpOQqM"
      },
      "source": [
        "***Question***<br>\n",
        "What are the assumptions for the two sample t test?"
      ]
    },
    {
      "cell_type": "markdown",
      "metadata": {
        "id": "h_ic0amVOW4m"
      },
      "source": [
        "***Answer***"
      ]
    },
    {
      "cell_type": "markdown",
      "metadata": {
        "id": "uSxLSiIgpCNd"
      },
      "source": [
        "the two samples are independent"
      ]
    },
    {
      "cell_type": "markdown",
      "metadata": {
        "id": "LW5myUIGpB4g"
      },
      "source": [
        "whether or not the data from the two samples follow a normal distribution\n"
      ]
    },
    {
      "cell_type": "markdown",
      "metadata": {
        "id": "trkUheGrOZC9"
      },
      "source": [
        "whether or not the two samples have the same type of variance"
      ]
    },
    {
      "cell_type": "markdown",
      "metadata": {
        "id": "xUAxn6ruLjkO"
      },
      "source": [
        "#Model Assumption Check\n",
        "##Checking the Normality of Data\n",
        "Use the Shapiro-Wilks test to check whether the September data is normally distributed. "
      ]
    },
    {
      "cell_type": "code",
      "metadata": {
        "id": "7uBsvrrwL7lz",
        "colab": {
          "base_uri": "https://localhost:8080/"
        },
        "outputId": "dd82513d-ac52-4654-b033-87d2e8a893c6"
      },
      "source": [
        "stats.shapiro(r9)"
      ],
      "execution_count": 27,
      "outputs": [
        {
          "output_type": "stream",
          "name": "stderr",
          "text": [
            "/usr/local/lib/python3.10/dist-packages/scipy/stats/_morestats.py:1816: UserWarning: p-value may not be accurate for N > 5000.\n",
            "  warnings.warn(\"p-value may not be accurate for N > 5000.\")\n"
          ]
        },
        {
          "output_type": "execute_result",
          "data": {
            "text/plain": [
              "ShapiroResult(statistic=0.3093302249908447, pvalue=0.0)"
            ]
          },
          "metadata": {},
          "execution_count": 27
        }
      ]
    },
    {
      "cell_type": "markdown",
      "metadata": {
        "id": "8ffEYhuAL9IX"
      },
      "source": [
        "Based on the shapiro-Wilks test, what can you conclude?"
      ]
    },
    {
      "cell_type": "markdown",
      "metadata": {
        "id": "Vh1-IasmMEzI"
      },
      "source": [
        "The data does not follow a normal distribution"
      ]
    },
    {
      "cell_type": "markdown",
      "metadata": {
        "id": "iN5p9YqqMLsK"
      },
      "source": [
        "Use the Shapiro-Wilks test to check whether the October data is normally distributed. "
      ]
    },
    {
      "cell_type": "code",
      "metadata": {
        "id": "JFHI8RN6MQQj",
        "colab": {
          "base_uri": "https://localhost:8080/"
        },
        "outputId": "cca9e7f8-ea76-40e4-dae2-8845b0516f6b"
      },
      "source": [
        "stats.shapiro(r10)"
      ],
      "execution_count": 28,
      "outputs": [
        {
          "output_type": "execute_result",
          "data": {
            "text/plain": [
              "ShapiroResult(statistic=0.1504315733909607, pvalue=0.0)"
            ]
          },
          "metadata": {},
          "execution_count": 28
        }
      ]
    },
    {
      "cell_type": "markdown",
      "metadata": {
        "id": "-SKUoPokMU18"
      },
      "source": [
        "Based on the shapiro-Wilks test, what can you conclude?"
      ]
    },
    {
      "cell_type": "markdown",
      "metadata": {
        "id": "Y8lylg6KMQko"
      },
      "source": [
        "The data does not follow a normal distribution"
      ]
    },
    {
      "cell_type": "markdown",
      "metadata": {
        "id": "yfLKlyoQMc_s"
      },
      "source": [
        "##Checking the Homogeneity of Variances Assumption\n",
        "Use Levene’s test to test for homogeneity of variances (equal variances):"
      ]
    },
    {
      "cell_type": "code",
      "metadata": {
        "id": "p7YpvC3VMllk",
        "colab": {
          "base_uri": "https://localhost:8080/"
        },
        "outputId": "42b56975-f5b7-4c7d-bb2e-1bb0dfa81b23"
      },
      "source": [
        "stats.levene(r9,r10)"
      ],
      "execution_count": 29,
      "outputs": [
        {
          "output_type": "execute_result",
          "data": {
            "text/plain": [
              "LeveneResult(statistic=319.0139543400415, pvalue=5.830822745630015e-71)"
            ]
          },
          "metadata": {},
          "execution_count": 29
        }
      ]
    },
    {
      "cell_type": "markdown",
      "metadata": {
        "id": "gteUEoW8Mncl"
      },
      "source": [
        "Based on Leven's test, what can you conclude?"
      ]
    },
    {
      "cell_type": "markdown",
      "metadata": {
        "id": "RWytXadJMrw7"
      },
      "source": []
    },
    {
      "cell_type": "markdown",
      "metadata": {
        "id": "ucrjLPqZNrTG"
      },
      "source": [
        "Based on the above tests, what can you conclude about the model assumptions?\n",
        "<br>\n",
        "**Answer:**"
      ]
    },
    {
      "cell_type": "markdown",
      "metadata": {
        "id": "pOuyD9b_Nz_R"
      },
      "source": []
    },
    {
      "cell_type": "markdown",
      "metadata": {
        "id": "RTwPBmLIMx8j"
      },
      "source": [
        "# NonParametric t test (Mann-Whitney U Test)\n",
        "If the assumptions are violated, the nonparametric t test, Mann-Whitney U test can be used.\n"
      ]
    },
    {
      "cell_type": "code",
      "metadata": {
        "id": "KpqobmTopbGu",
        "colab": {
          "base_uri": "https://localhost:8080/"
        },
        "outputId": "9cf68d54-84d4-4f01-bcf0-7d5d3d0da8f1"
      },
      "source": [
        "stat, p = stats.mannwhitneyu(r9, r10)\n",
        "print('Statistics=%.3f, p=%.3f '% (stat, p))"
      ],
      "execution_count": 30,
      "outputs": [
        {
          "output_type": "stream",
          "name": "stdout",
          "text": [
            "Statistics=40097230.000, p=0.000 \n"
          ]
        }
      ]
    },
    {
      "cell_type": "markdown",
      "metadata": {
        "id": "D6TV10E3N_7r"
      },
      "source": [
        "# 6-Step Hypothesis Testing"
      ]
    },
    {
      "cell_type": "markdown",
      "metadata": {
        "id": "hg3Hfk7gOE3Q"
      },
      "source": [
        "1.  H0: μ_9= μ_10 Ha: μ_9 \\neq μ_10"
      ]
    },
    {
      "cell_type": "markdown",
      "metadata": {
        "id": "S9dxkCiiOGxq"
      },
      "source": [
        "2. $\\alpha$$=$0.05<br>"
      ]
    },
    {
      "cell_type": "markdown",
      "metadata": {
        "id": "hgbABRZTOHvk"
      },
      "source": [
        "*3*. Test Statistic U=40097230.000"
      ]
    },
    {
      "cell_type": "markdown",
      "metadata": {
        "id": "M7wj9bdgOIfN"
      },
      "source": [
        "4. p Value<br>\n",
        "  p=0.000<br>"
      ]
    },
    {
      "cell_type": "markdown",
      "source": [
        "5. Decision<br>\n",
        "  Reject H0 since p &lt; 0.05 <br>"
      ],
      "metadata": {
        "id": "2Rl3yHE58gRO"
      }
    },
    {
      "cell_type": "markdown",
      "metadata": {
        "id": "Yg4ErcNWOJv8"
      },
      "source": [
        "*6*.  There is enough evidence to conclude that the mean estimated flow rate in September 2017 is different than the mean estimated flow rate in October 2017"
      ]
    },
    {
      "cell_type": "markdown",
      "source": [
        "In the spalce below, type your experience with your colab project experience. What you like, what you dislike and what you would like to experience in the future colab projects.\n"
      ],
      "metadata": {
        "id": "owIijH7m4VEx"
      }
    },
    {
      "cell_type": "markdown",
      "source": [
        "Project experience overall was good; very informative and clear steps to find the solutions"
      ],
      "metadata": {
        "id": "g3KuAU4P4f6g"
      }
    }
  ]
}